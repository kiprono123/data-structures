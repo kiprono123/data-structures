{
 "cells": [
  {
   "cell_type": "code",
   "execution_count": 16,
   "id": "8318796a-9da0-440a-92e8-bbd3321180ab",
   "metadata": {},
   "outputs": [
    {
     "name": "stdout",
     "output_type": "stream",
     "text": [
      "Found 30 at index 16 in 17 loops.\n"
     ]
    },
    {
     "data": {
      "text/plain": [
       "16"
      ]
     },
     "execution_count": 16,
     "metadata": {},
     "output_type": "execute_result"
    }
   ],
   "source": [
    "def LinearScan(array, target):\n",
    "    i = 0\n",
    "    while i < len(array):\n",
    "        if array[i] == target:\n",
    "            print(f'Found {target} at index {i} in {i+1} loops.')\n",
    "            return i\n",
    "        i += 1\n",
    "    print(f'Could not find {target} in list.')\n",
    "    return -1\n",
    "\n",
    "nums = [2,3,5,7,8,9,11,14,15,17,19,20,21,22,25,26,30]\n",
    "\n",
    "LinearScan(nums, 30)"
   ]
  },
  {
   "cell_type": "code",
   "execution_count": 26,
   "id": "428c85f5-929a-4a7a-a2c2-b408753c904c",
   "metadata": {},
   "outputs": [
    {
     "name": "stdout",
     "output_type": "stream",
     "text": [
      "15\n",
      "7\n",
      "9\n",
      "11\n",
      "Found 14 at index 7 in 5 loops.\n"
     ]
    },
    {
     "data": {
      "text/plain": [
       "7"
      ]
     },
     "execution_count": 26,
     "metadata": {},
     "output_type": "execute_result"
    }
   ],
   "source": [
    "import math as m\n",
    "\n",
    "def BinarySearch(array, target):\n",
    "    high = len(array)-1\n",
    "    low = 0\n",
    "    i = 1\n",
    "    while low <= high:\n",
    "        mid = m.floor((high+low)/2)\n",
    "        if array[mid] == target:\n",
    "            print(f'Found {target} at index {mid} in {i} loops.')\n",
    "            return mid\n",
    "        if array[mid] < target:\n",
    "            low = mid+1\n",
    "        else:\n",
    "            high = mid-1\n",
    "        i += 1\n",
    "        print(nums[mid])\n",
    "    print(f'Could not find {target} in list.')\n",
    "    return -1\n",
    "\n",
    "nums = [2,3,5,7,8,9,11,14,15,17,19,20,21,22,25,26,30]\n",
    "\n",
    "BinarySearch(nums, 14)"
   ]
  }
 ],
 "metadata": {
  "kernelspec": {
   "display_name": "Python 3 (ipykernel)",
   "language": "python",
   "name": "python3"
  },
  "language_info": {
   "codemirror_mode": {
    "name": "ipython",
    "version": 3
   },
   "file_extension": ".py",
   "mimetype": "text/x-python",
   "name": "python",
   "nbconvert_exporter": "python",
   "pygments_lexer": "ipython3",
   "version": "3.10.9"
  }
 },
 "nbformat": 4,
 "nbformat_minor": 5
}
